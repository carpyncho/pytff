{
 "cells": [
  {
   "cell_type": "markdown",
   "metadata": {},
   "source": [
    "#Example of Pytff\n",
    "\n",
    "First lets import the required modules\n"
   ]
  },
  {
   "cell_type": "code",
   "execution_count": 1,
   "metadata": {
    "collapsed": false
   },
   "outputs": [],
   "source": [
    "import os\n",
    "\n",
    "import numpy as np\n",
    "\n",
    "import pytff"
   ]
  },
  {
   "cell_type": "markdown",
   "metadata": {},
   "source": [
    "Load The Data"
   ]
  },
  {
   "cell_type": "code",
   "execution_count": 2,
   "metadata": {
    "collapsed": false
   },
   "outputs": [
    {
     "data": {
      "text/plain": [
       "array([[ 2088.91535,    18.868  ],\n",
       "       [ 2090.87535,    19.54   ],\n",
       "       [ 2103.92958,    18.704  ],\n",
       "       ..., \n",
       "       [ 4853.56146,    19.116  ],\n",
       "       [ 4854.56497,    18.974  ],\n",
       "       [ 4864.5617 ,    18.835  ]])"
      ]
     },
     "execution_count": 2,
     "metadata": {},
     "output_type": "execute_result"
    }
   ],
   "source": [
    "data = np.loadtxt(os.path.join(\"data\", \"ogle.dat\"))\n",
    "data"
   ]
  },
  {
   "cell_type": "markdown",
   "metadata": {
    "collapsed": true
   },
   "source": [
    "Reformat the data for pytff"
   ]
  },
  {
   "cell_type": "code",
   "execution_count": 3,
   "metadata": {
    "collapsed": false
   },
   "outputs": [],
   "source": [
    "# this value is the real period of this star (i don't remember the original id\n",
    "# is necesary to create an array of one element for only one star\n",
    "periods = np.array([0.6347522])\n",
    "\n",
    "# convert the first column of the data into a first row of the 2d array\n",
    "times = data[:,0].reshape(1, len(data[:,0]))\n",
    "\n",
    "# convert the second column of the data into a first row of the 2d array\n",
    "values = data[:,1].reshape(1, len(data[:,1]))"
   ]
  },
  {
   "cell_type": "markdown",
   "metadata": {},
   "source": [
    "Lets instantiate the tool"
   ]
  },
  {
   "cell_type": "code",
   "execution_count": 4,
   "metadata": {
    "collapsed": false
   },
   "outputs": [],
   "source": [
    "tff = pytff.TFFCommand(tff_path=\"path/to/tff\")"
   ]
  },
  {
   "cell_type": "markdown",
   "metadata": {},
   "source": [
    "This show the `FORTRAN PROGAM -> WORK DIRECTORY`"
   ]
  },
  {
   "cell_type": "code",
   "execution_count": 5,
   "metadata": {
    "collapsed": false
   },
   "outputs": [
    {
     "data": {
      "text/plain": [
       "<Command 'path/to/tff'> -> /tmp/tmpRuV2Ps_tff"
      ]
     },
     "execution_count": 5,
     "metadata": {},
     "output_type": "execute_result"
    }
   ],
   "source": [
    "tff"
   ]
  },
  {
   "cell_type": "code",
   "execution_count": 6,
   "metadata": {
    "collapsed": false
   },
   "outputs": [],
   "source": [
    "tff_data, dff_data, match_data = tff(periods, times, values)"
   ]
  },
  {
   "cell_type": "code",
   "execution_count": 7,
   "metadata": {
    "collapsed": false
   },
   "outputs": [
    {
     "data": {
      "text/plain": [
       "array([ (0, 0.63475, 0.0, 19.034, 654.0, 0.2288, 0.1481, 4.1906, 0.0493, 4.8528, 0.0192, 5.9558, 0.005, 1.1047, 0.0043, 2.6569, 0.0049, 3.4054, 0.0036, 4.5121, 0.0034, 5.5922, 0.0017, 0.0709, 0.0015, 0.5639, 0.0, 0.2353, 0.0, 0.0276, 0.0, 0.0846, 0.0, 3.8838, 0.0, 0.6126)], \n",
       "      dtype=[('src_idx', '<i8'), ('period', '<f8'), ('epoch', '<f8'), ('average_magnitude', '<f8'), ('number_of_data_points', '<f8'), ('sigma_obs_fit', '<f8'), ('A_1', '<f8'), ('phi_1', '<f8'), ('A_2', '<f8'), ('phi_2', '<f8'), ('A_3', '<f8'), ('phi_3', '<f8'), ('A_4', '<f8'), ('phi_4', '<f8'), ('A_5', '<f8'), ('phi_5', '<f8'), ('A_6', '<f8'), ('phi_6', '<f8'), ('A_7', '<f8'), ('phi_7', '<f8'), ('A_8', '<f8'), ('phi_8', '<f8'), ('A_9', '<f8'), ('phi_9', '<f8'), ('A_10', '<f8'), ('phi_10', '<f8'), ('A_11', '<f8'), ('phi_11', '<f8'), ('A_12', '<f8'), ('phi_12', '<f8'), ('A_13', '<f8'), ('phi_13', '<f8'), ('A_14', '<f8'), ('phi_14', '<f8'), ('A_15', '<f8'), ('phi_15', '<f8')])"
      ]
     },
     "execution_count": 7,
     "metadata": {},
     "output_type": "execute_result"
    }
   ],
   "source": [
    "tff_data"
   ]
  },
  {
   "cell_type": "code",
   "execution_count": 8,
   "metadata": {
    "collapsed": false
   },
   "outputs": [
    {
     "data": {
      "text/plain": [
       "(0, 0.63475, 0.0, 19.034, 654.0, 0.2288, 0.1481, 4.1906, 0.0493, 4.8528, 0.0192, 5.9558, 0.005, 1.1047, 0.0043, 2.6569, 0.0049, 3.4054, 0.0036, 4.5121, 0.0034, 5.5922, 0.0017, 0.0709, 0.0015, 0.5639, 0.0, 0.2353, 0.0, 0.0276, 0.0, 0.0846, 0.0, 3.8838, 0.0, 0.6126)"
      ]
     },
     "execution_count": 8,
     "metadata": {},
     "output_type": "execute_result"
    }
   ],
   "source": [
    "tff_data[0] # our first and only source"
   ]
  },
  {
   "cell_type": "code",
   "execution_count": 9,
   "metadata": {
    "collapsed": false
   },
   "outputs": [
    {
     "data": {
      "text/plain": [
       "array([ 0.63475])"
      ]
     },
     "execution_count": 9,
     "metadata": {},
     "output_type": "execute_result"
    }
   ],
   "source": [
    "tff_data[\"period\"]"
   ]
  },
  {
   "cell_type": "code",
   "execution_count": 12,
   "metadata": {
    "collapsed": false
   },
   "outputs": [
    {
     "data": {
      "text/plain": [
       "array([ (0, 1, 0.63475, 0.2288, 0, 9.5541, 'M3 V124', 0.75243, 0.2288, 654, 5.9504),\n",
       "       (0, 2, 0.63475, 0.2288, 0, 9.5541, 'M5 V87', 0.73921, 0.2299, 654, 6.0107),\n",
       "       (0, 3, 0.63475, 0.2288, 0, 9.5541, 'Rup106 V13', 0.65315, 0.2345, 654, 4.9328),\n",
       "       (0, 4, 0.63475, 0.2288, 0, 9.5541, 'FW Lup', 0.48417, 0.2347, 654, 5.7156),\n",
       "       (0, 5, 0.63475, 0.2288, 0, 9.5541, 'M68 V30', 0.73364, 0.235, 654, 5.3584),\n",
       "       (0, 6, 0.63475, 0.2288, 0, 9.5541, 'Rup106 V18', 0.63547, 0.2383, 654, 5.4264),\n",
       "       (0, 7, 0.63475, 0.2288, 0, 9.5541, 'M3 V62', 0.65241, 0.2464, 654, 5.6235),\n",
       "       (0, 8, 0.63475, 0.2288, 0, 9.5541, 'Rup106 V16', 0.62851, 0.2501, 654, 5.2816),\n",
       "       (0, 9, 0.63475, 0.2288, 0, 9.5541, 'CN Lyr', 0.41138, 0.2563, 654, 5.5319),\n",
       "       (0, 10, 0.63475, 0.2288, 0, 9.5541, 'M5 V75', 0.68547, 0.2574, 654, 5.6388)], \n",
       "      dtype=[('src_idx', '<i8'), ('match_rank', '<i8'), ('src_period', '<f8'), ('src_sigma_obs_fit', '<f8'), ('order_of_the_template', '<i8'), ('snr', '<f8'), ('template_id', 'S255'), ('template_period', '<f8'), ('template_sigma_obs_fit', '<f8'), ('src_N_data_point', '<i8'), ('template_phi_31', '<f8')])"
      ]
     },
     "execution_count": 12,
     "metadata": {},
     "output_type": "execute_result"
    }
   ],
   "source": [
    "match_data"
   ]
  }
 ],
 "metadata": {
  "kernelspec": {
   "display_name": "Python 2",
   "language": "python",
   "name": "python2"
  },
  "language_info": {
   "codemirror_mode": {
    "name": "ipython",
    "version": 2
   },
   "file_extension": ".py",
   "mimetype": "text/x-python",
   "name": "python",
   "nbconvert_exporter": "python",
   "pygments_lexer": "ipython2",
   "version": "2.7.6"
  }
 },
 "nbformat": 4,
 "nbformat_minor": 0
}
