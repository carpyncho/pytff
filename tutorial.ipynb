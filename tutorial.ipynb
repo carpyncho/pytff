{
 "cells": [
  {
   "cell_type": "markdown",
   "metadata": {},
   "source": [
    "#Tutorial of Pytff\n",
    "\n",
    "First lets import the required modules\n"
   ]
  },
  {
   "cell_type": "code",
   "execution_count": 1,
   "metadata": {
    "collapsed": false
   },
   "outputs": [],
   "source": [
    "import os\n",
    "import random\n",
    "\n",
    "import numpy as np\n",
    "\n",
    "import pytff"
   ]
  },
  {
   "cell_type": "code",
   "execution_count": 2,
   "metadata": {
    "collapsed": false
   },
   "outputs": [
    {
     "data": {
      "text/plain": [
       "<Command 'path/to/tff'> -> /tmp/tmpKLwMLf_tff"
      ]
     },
     "execution_count": 2,
     "metadata": {},
     "output_type": "execute_result"
    }
   ],
   "source": [
    "tff = pytff.TFFCommand(tff_path=\"path/to/tff\")\n",
    "tff"
   ]
  },
  {
   "cell_type": "markdown",
   "metadata": {},
   "source": [
    "The main method of `TFFCommand` instance is **analize**"
   ]
  },
  {
   "cell_type": "code",
   "execution_count": 3,
   "metadata": {
    "collapsed": false
   },
   "outputs": [
    {
     "name": "stdout",
     "output_type": "stream",
     "text": [
      "Help on method analyze in module pytff.core:\n",
      "\n",
      "analyze(self, periods, times, values, ntbin=300, nmin=10, mindp=10, snr1min=10.0, nmatch=10, dph=1e-05, asig=555.0, jfit=-1) method of pytff.core.TFFCommand instance\n",
      "    Run the tff analysis.\n",
      "    \n",
      "    Params\n",
      "    ------\n",
      "    \n",
      "    periods: 1d-array-like\n",
      "        An array with all the periods of the sources.\n",
      "    times: 2d-array-like\n",
      "        Every row represents all the times of one source\n",
      "    values: 2d-array-like\n",
      "        Every row represents all the magnitudes of one source\n",
      "    ntbin: int\n",
      "        number of bins of the templates (default: 300)\n",
      "    nmin: int\n",
      "        minimum number of the template data points (default: 10)\n",
      "    mindp: int\n",
      "        minimum number of the target data points (default: 10)\n",
      "    snr1min: float\n",
      "        minimum SNR1 of the template time series (default: 10.0)\n",
      "    nmatch: int\n",
      "        number of the top best matching templates to be printed\n",
      "        (default: 10)\n",
      "    dph: float\n",
      "        templates are fitted with dph accuracy in phase (default: 0.00001)\n",
      "    asig: float\n",
      "        sigma clipping parameter for template and Fourier fits\n",
      "        (default: 555.0)\n",
      "    jfit: int\n",
      "        template polynomial degree (if jfit < 0, then optimized)\n",
      "        (default: -1)\n",
      "    \n",
      "    The i-nth row of times must be has the same number of values i-nth row\n",
      "    of values.\n",
      "    \n",
      "    Return\n",
      "    ------\n",
      "    \n",
      "    tff_data: ndarray\n",
      "        Fourier decompositions, resulting from the TFF analysis.\n",
      "        Fields:\n",
      "    \n",
      "        -   **src_idx:** In which index of periods, times and values is\n",
      "            the data used for generate this fourier decomposition.\n",
      "        -   **period:** The perdiod\n",
      "        -   **epoch:** The epoch\n",
      "        -   **average_magnitude:** average of values\n",
      "        -   **N_data_point:** Size of time and value\n",
      "        -   **sigma_obs_fit:** std deviation\n",
      "        -   **A_1, phi_1, A_2, phi_2, ..., A_15, phi_15** The fourier\n",
      "            components\n",
      "    \n",
      "        Form of the Fourier decomposition:\n",
      "    \n",
      "        ::\n",
      "    \n",
      "            A_0 + A_1*sin(2*pi*(t(i)-Epoch)*1/Period+Phi_1)\n",
      "                  A_2*sin(2*pi*(t(i)-Epoch)*2/Period+Phi_2) +\n",
      "                  A_3*sin(2*pi*(t(i)-Epoch)*3/Period+Phi_3) + ...\n",
      "    \n",
      "    dff_data: ndarray\n",
      "        Fourier decompositions, resulting from the DFF analysis.\n",
      "        Same fields as *tff_data*\n",
      "    \n",
      "    match_data: ndarray\n",
      "        List of target/template matches. You gona have ``nmatch`` rows for\n",
      "        every source.\n",
      "        Fields:\n",
      "    \n",
      "        -   **src_idx:** In which index of periods, times and values is\n",
      "            the data used for generate this match.\n",
      "        -   **match_rank:** value in between 1 and nmatch that represent\n",
      "            the importance of this match with the source (lower is better)\n",
      "        -   **src_period:** The period of the source.\n",
      "        -   **src_sigma_obs_fit:** std deviation of the source.\n",
      "        -   **order_of_the_template**\n",
      "        -   **snr:** is the signal-to-noise ratio of the template-fitted\n",
      "            light curve. ``SNR=AMP/(sigma/sqrt(n))``, where 'AMP' is the\n",
      "            total amplitude of the best fitting template, 'sigma' is the\n",
      "            standard deviation of the residuals between the target and\n",
      "            the template, 'n' is the number of the target data points.\n",
      "        -   **template_id**\n",
      "        -   **template_period**\n",
      "        -   **template_sigma_obs_fit:** std deviation of the templates.\n",
      "        -   **src_N_data_point:** Size of time and value.\n",
      "        -   **template_phi_31**\n",
      "    \n",
      "    For more info please see:\n",
      "    http://www.konkoly.hu/staff/kovacs/tff_in_out.inf\n",
      "\n"
     ]
    }
   ],
   "source": [
    "help(tff.analyze)"
   ]
  },
  {
   "cell_type": "markdown",
   "metadata": {},
   "source": [
    "## Fake Example\n",
    "\n",
    "Load The Data"
   ]
  },
  {
   "cell_type": "code",
   "execution_count": 4,
   "metadata": {
    "collapsed": false
   },
   "outputs": [],
   "source": [
    "periods = np.random.rand(10)\n",
    "times = np.random.rand(10, 50)\n",
    "values = np.random.rand(*times.shape)"
   ]
  },
  {
   "cell_type": "code",
   "execution_count": 5,
   "metadata": {
    "collapsed": false
   },
   "outputs": [],
   "source": [
    "tff_data, dff_data, match_data = tff.analyze(periods, times, values)"
   ]
  },
  {
   "cell_type": "code",
   "execution_count": 6,
   "metadata": {
    "collapsed": false
   },
   "outputs": [
    {
     "data": {
      "text/plain": [
       "array([ (0, 1, 0.49249, 0.2772, 0, 4.1545, 'M3 V124', 0.75243, 0.2772, 50, 5.9504),\n",
       "       (0, 2, 0.49249, 0.2772, 0, 4.1545, 'M5 V87', 0.73921, 0.2779, 50, 6.0107),\n",
       "       (0, 3, 0.49249, 0.2772, 0, 4.1545, 'FW Lup', 0.48417, 0.2805, 50, 5.7156),\n",
       "       (0, 4, 0.49249, 0.2772, 0, 4.1545, 'M68 V30', 0.73364, 0.2812, 50, 5.3584),\n",
       "       (0, 5, 0.49249, 0.2772, 0, 4.1545, 'Rup106 V18', 0.63547, 0.2817, 50, 5.4264),\n",
       "       (0, 6, 0.49249, 0.2772, 0, 4.1545, 'Rup106 V13', 0.65315, 0.2825, 50, 4.9328),\n",
       "       (0, 7, 0.49249, 0.2772, 0, 4.1545, 'M3 V62', 0.65241, 0.2842, 50, 5.6235),\n",
       "       (0, 8, 0.49249, 0.2772, 0, 4.1545, 'Rup106 V16', 0.62851, 0.289, 50, 5.2816),\n",
       "       (0, 9, 0.49249, 0.2772, 0, 4.1545, 'M5 V75', 0.68547, 0.2934, 50, 5.6388),\n",
       "       (0, 10, 0.49249, 0.2772, 0, 4.1545, 'CN Lyr', 0.41138, 0.2959, 50, 5.5319),\n",
       "       (1, 1, 0.01734, 0.2754, 0, 8.6505, 'M5 V87', 0.73921, 0.2754, 50, 6.0107),\n",
       "       (1, 2, 0.01734, 0.2754, 0, 8.6505, 'M3 V124', 0.75243, 0.2763, 50, 5.9504),\n",
       "       (1, 3, 0.01734, 0.2754, 0, 8.6505, 'Rup106 V13', 0.65315, 0.2779, 50, 4.9328),\n",
       "       (1, 4, 0.01734, 0.2754, 0, 8.6505, 'M68 V30', 0.73364, 0.2796, 50, 5.3584),\n",
       "       (1, 5, 0.01734, 0.2754, 0, 8.6505, 'FW Lup', 0.48417, 0.2811, 50, 5.7156),\n",
       "       (1, 6, 0.01734, 0.2754, 0, 8.6505, 'Rup106 V18', 0.63547, 0.2817, 50, 5.4264),\n",
       "       (1, 7, 0.01734, 0.2754, 0, 8.6505, 'Rup106 V16', 0.62851, 0.2878, 50, 5.2816),\n",
       "       (1, 8, 0.01734, 0.2754, 0, 8.6505, 'M3 V62', 0.65241, 0.2881, 50, 5.6235),\n",
       "       (1, 9, 0.01734, 0.2754, 0, 8.6505, 'CN Lyr', 0.41138, 0.2927, 50, 5.5319),\n",
       "       (1, 10, 0.01734, 0.2754, 0, 8.6505, 'M5 V75', 0.68547, 0.2937, 50, 5.6388),\n",
       "       (2, 1, 0.3098, 0.2961, 0, 7.0435, 'M5 V87', 0.73921, 0.2961, 50, 6.0107),\n",
       "       (2, 2, 0.3098, 0.2961, 0, 7.0435, 'M3 V124', 0.75243, 0.2971, 50, 5.9504),\n",
       "       (2, 3, 0.3098, 0.2961, 0, 7.0435, 'FW Lup', 0.48417, 0.2995, 50, 5.7156),\n",
       "       (2, 4, 0.3098, 0.2961, 0, 7.0435, 'Rup106 V13', 0.65315, 0.3013, 50, 4.9328),\n",
       "       (2, 5, 0.3098, 0.2961, 0, 7.0435, 'M68 V30', 0.73364, 0.3014, 50, 5.3584),\n",
       "       (2, 6, 0.3098, 0.2961, 0, 7.0435, 'Rup106 V18', 0.63547, 0.304, 50, 5.4264),\n",
       "       (2, 7, 0.3098, 0.2961, 0, 7.0435, 'M3 V62', 0.65241, 0.3049, 50, 5.6235),\n",
       "       (2, 8, 0.3098, 0.2961, 0, 7.0435, 'M5 V75', 0.68547, 0.3085, 50, 5.6388),\n",
       "       (2, 9, 0.3098, 0.2961, 0, 7.0435, 'Rup106 V16', 0.62851, 0.3087, 50, 5.2816),\n",
       "       (2, 10, 0.3098, 0.2961, 0, 7.0435, 'M5 V77', 0.84526, 0.3092, 50, 6.3966),\n",
       "       (3, 1, 0.00111, 0.2799, 0, 6.687, 'M5 V87', 0.73921, 0.2799, 50, 6.0107),\n",
       "       (3, 2, 0.00111, 0.2799, 0, 6.687, 'M3 V124', 0.75243, 0.2807, 50, 5.9504),\n",
       "       (3, 3, 0.00111, 0.2799, 0, 6.687, 'FW Lup', 0.48417, 0.2814, 50, 5.7156),\n",
       "       (3, 4, 0.00111, 0.2799, 0, 6.687, 'M68 V30', 0.73364, 0.2825, 50, 5.3584),\n",
       "       (3, 5, 0.00111, 0.2799, 0, 6.687, 'Rup106 V13', 0.65315, 0.2827, 50, 4.9328),\n",
       "       (3, 6, 0.00111, 0.2799, 0, 6.687, 'Rup106 V18', 0.63547, 0.2848, 50, 5.4264),\n",
       "       (3, 7, 0.00111, 0.2799, 0, 6.687, 'M3 V62', 0.65241, 0.2867, 50, 5.6235),\n",
       "       (3, 8, 0.00111, 0.2799, 0, 6.687, 'Rup106 V16', 0.62851, 0.2891, 50, 5.2816),\n",
       "       (3, 9, 0.00111, 0.2799, 0, 6.687, 'M5 V75', 0.68547, 0.2913, 50, 5.6388),\n",
       "       (3, 10, 0.00111, 0.2799, 0, 6.687, 'CN Lyr', 0.41138, 0.2925, 50, 5.5319),\n",
       "       (4, 1, 0.44301, 0.2636, 0, 7.4017, 'M5 V87', 0.73921, 0.2636, 50, 6.0107),\n",
       "       (4, 2, 0.44301, 0.2636, 0, 7.4017, 'FW Lup', 0.48417, 0.2645, 50, 5.7156),\n",
       "       (4, 3, 0.44301, 0.2636, 0, 7.4017, 'M3 V124', 0.75243, 0.2647, 50, 5.9504),\n",
       "       (4, 4, 0.44301, 0.2636, 0, 7.4017, 'M68 V30', 0.73364, 0.2651, 50, 5.3584),\n",
       "       (4, 5, 0.44301, 0.2636, 0, 7.4017, 'M3 V62', 0.65241, 0.2655, 50, 5.6235),\n",
       "       (4, 6, 0.44301, 0.2636, 0, 7.4017, 'Rup106 V18', 0.63547, 0.2656, 50, 5.4264),\n",
       "       (4, 7, 0.44301, 0.2636, 0, 7.4017, 'Rup106 V13', 0.65315, 0.2667, 50, 4.9328),\n",
       "       (4, 8, 0.44301, 0.2636, 0, 7.4017, 'Rup106 V16', 0.62851, 0.2685, 50, 5.2816),\n",
       "       (4, 9, 0.44301, 0.2636, 0, 7.4017, 'M5 V75', 0.68547, 0.2716, 50, 5.6388),\n",
       "       (4, 10, 0.44301, 0.2636, 0, 7.4017, 'N6362 V424', 0.59451, 0.2749, 50, 5.464),\n",
       "       (5, 1, 0.92971, 0.2994, 0, 8.241, 'M3 V124', 0.75243, 0.2994, 50, 5.9504),\n",
       "       (5, 2, 0.92971, 0.2994, 0, 8.241, 'M5 V87', 0.73921, 0.2995, 50, 6.0107),\n",
       "       (5, 3, 0.92971, 0.2994, 0, 8.241, 'FW Lup', 0.48417, 0.3026, 50, 5.7156),\n",
       "       (5, 4, 0.92971, 0.2994, 0, 8.241, 'Rup106 V13', 0.65315, 0.3041, 50, 4.9328),\n",
       "       (5, 5, 0.92971, 0.2994, 0, 8.241, 'M68 V30', 0.73364, 0.3051, 50, 5.3584),\n",
       "       (5, 6, 0.92971, 0.2994, 0, 8.241, 'M5 V77', 0.84526, 0.3067, 50, 6.3966),\n",
       "       (5, 7, 0.92971, 0.2994, 0, 8.241, 'Rup106 V18', 0.63547, 0.3069, 50, 5.4264),\n",
       "       (5, 8, 0.92971, 0.2994, 0, 8.241, 'M3 V62', 0.65241, 0.3083, 50, 5.6235),\n",
       "       (5, 9, 0.92971, 0.2994, 0, 8.241, 'M5 V75', 0.68547, 0.3103, 50, 5.6388),\n",
       "       (5, 10, 0.92971, 0.2994, 0, 8.241, 'Rup106 V16', 0.62851, 0.312, 50, 5.2816),\n",
       "       (6, 1, 0.6783, 0.2709, 0, 8.2536, 'M3 V124', 0.75243, 0.2709, 50, 5.9504),\n",
       "       (6, 2, 0.6783, 0.2709, 0, 8.2536, 'Rup106 V13', 0.65315, 0.2711, 50, 4.9328),\n",
       "       (6, 3, 0.6783, 0.2709, 0, 8.2536, 'M5 V87', 0.73921, 0.272, 50, 6.0107),\n",
       "       (6, 4, 0.6783, 0.2709, 0, 8.2536, 'FW Lup', 0.48417, 0.2725, 50, 5.7156),\n",
       "       (6, 5, 0.6783, 0.2709, 0, 8.2536, 'M68 V30', 0.73364, 0.2725, 50, 5.3584),\n",
       "       (6, 6, 0.6783, 0.2709, 0, 8.2536, 'Rup106 V18', 0.63547, 0.2735, 50, 5.4264),\n",
       "       (6, 7, 0.6783, 0.2709, 0, 8.2536, 'M3 V62', 0.65241, 0.2787, 50, 5.6235),\n",
       "       (6, 8, 0.6783, 0.2709, 0, 8.2536, 'Rup106 V16', 0.62851, 0.2789, 50, 5.2816),\n",
       "       (6, 9, 0.6783, 0.2709, 0, 8.2536, 'CN Lyr', 0.41138, 0.2791, 50, 5.5319),\n",
       "       (6, 10, 0.6783, 0.2709, 0, 8.2536, 'M3 V50', 0.51309, 0.2796, 50, 4.383),\n",
       "       (7, 1, 0.43484, 0.3043, 0, 6.2089, 'M3 V124', 0.75243, 0.3043, 50, 5.9504),\n",
       "       (7, 2, 0.43484, 0.3043, 0, 6.2089, 'M5 V87', 0.73921, 0.3046, 50, 6.0107),\n",
       "       (7, 3, 0.43484, 0.3043, 0, 6.2089, 'FW Lup', 0.48417, 0.3057, 50, 5.7156),\n",
       "       (7, 4, 0.43484, 0.3043, 0, 6.2089, 'M68 V30', 0.73364, 0.306, 50, 5.3584),\n",
       "       (7, 5, 0.43484, 0.3043, 0, 6.2089, 'Rup106 V18', 0.63547, 0.3066, 50, 5.4264),\n",
       "       (7, 6, 0.43484, 0.3043, 0, 6.2089, 'Rup106 V13', 0.65315, 0.3074, 50, 4.9328),\n",
       "       (7, 7, 0.43484, 0.3043, 0, 6.2089, 'M3 V62', 0.65241, 0.3084, 50, 5.6235),\n",
       "       (7, 8, 0.43484, 0.3043, 0, 6.2089, 'Rup106 V16', 0.62851, 0.3117, 50, 5.2816),\n",
       "       (7, 9, 0.43484, 0.3043, 0, 6.2089, 'M5 V75', 0.68547, 0.3141, 50, 5.6388),\n",
       "       (7, 10, 0.43484, 0.3043, 0, 6.2089, 'CN Lyr', 0.41138, 0.3144, 50, 5.5319),\n",
       "       (8, 1, 0.44725, 0.2865, 0, 6.8767, 'M3 V124', 0.75243, 0.2865, 50, 5.9504),\n",
       "       (8, 2, 0.44725, 0.2865, 0, 6.8767, 'M5 V87', 0.73921, 0.2868, 50, 6.0107),\n",
       "       (8, 3, 0.44725, 0.2865, 0, 6.8767, 'FW Lup', 0.48417, 0.2872, 50, 5.7156),\n",
       "       (8, 4, 0.44725, 0.2865, 0, 6.8767, 'M68 V30', 0.73364, 0.2883, 50, 5.3584),\n",
       "       (8, 5, 0.44725, 0.2865, 0, 6.8767, 'Rup106 V13', 0.65315, 0.2884, 50, 4.9328),\n",
       "       (8, 6, 0.44725, 0.2865, 0, 6.8767, 'Rup106 V18', 0.63547, 0.289, 50, 5.4264),\n",
       "       (8, 7, 0.44725, 0.2865, 0, 6.8767, 'M3 V62', 0.65241, 0.2897, 50, 5.6235),\n",
       "       (8, 8, 0.44725, 0.2865, 0, 6.8767, 'Rup106 V16', 0.62851, 0.2937, 50, 5.2816),\n",
       "       (8, 9, 0.44725, 0.2865, 0, 6.8767, 'M5 V75', 0.68547, 0.2973, 50, 5.6388),\n",
       "       (8, 10, 0.44725, 0.2865, 0, 6.8767, 'N6362 V424', 0.59451, 0.3002, 50, 5.464),\n",
       "       (9, 1, 0.43989, 0.2979, 0, 7.2089, 'M5 V87', 0.73921, 0.2979, 50, 6.0107),\n",
       "       (9, 2, 0.43989, 0.2979, 0, 7.2089, 'M3 V124', 0.75243, 0.2979, 50, 5.9504),\n",
       "       (9, 3, 0.43989, 0.2979, 0, 7.2089, 'FW Lup', 0.48417, 0.3002, 50, 5.7156),\n",
       "       (9, 4, 0.43989, 0.2979, 0, 7.2089, 'M68 V30', 0.73364, 0.3003, 50, 5.3584),\n",
       "       (9, 5, 0.43989, 0.2979, 0, 7.2089, 'Rup106 V13', 0.65315, 0.3005, 50, 4.9328),\n",
       "       (9, 6, 0.43989, 0.2979, 0, 7.2089, 'Rup106 V18', 0.63547, 0.3012, 50, 5.4264),\n",
       "       (9, 7, 0.43989, 0.2979, 0, 7.2089, 'M3 V62', 0.65241, 0.3038, 50, 5.6235),\n",
       "       (9, 8, 0.43989, 0.2979, 0, 7.2089, 'Rup106 V16', 0.62851, 0.3046, 50, 5.2816),\n",
       "       (9, 9, 0.43989, 0.2979, 0, 7.2089, 'CN Lyr', 0.41138, 0.3061, 50, 5.5319),\n",
       "       (9, 10, 0.43989, 0.2979, 0, 7.2089, 'M5 V75', 0.68547, 0.3066, 50, 5.6388)], \n",
       "      dtype=[('src_idx', '<i8'), ('match_rank', '<i8'), ('src_period', '<f8'), ('src_sigma_obs_fit', '<f8'), ('order_of_the_template', '<i8'), ('snr', '<f8'), ('template_id', 'S255'), ('template_period', '<f8'), ('template_sigma_obs_fit', '<f8'), ('src_N_data_point', '<i8'), ('template_phi_31', '<f8')])"
      ]
     },
     "execution_count": 6,
     "metadata": {},
     "output_type": "execute_result"
    }
   ],
   "source": [
    "match_data"
   ]
  },
  {
   "cell_type": "markdown",
   "metadata": {},
   "source": [
    "## Real Data Example\n",
    "\n",
    "Load The Data"
   ]
  },
  {
   "cell_type": "markdown",
   "metadata": {},
   "source": [
    "## Real Data Example\n",
    "\n",
    "Load The Data"
   ]
  },
  {
   "cell_type": "code",
   "execution_count": 7,
   "metadata": {
    "collapsed": false
   },
   "outputs": [
    {
     "data": {
      "text/plain": [
       "array([[ 2088.91535,    18.868  ],\n",
       "       [ 2090.87535,    19.54   ],\n",
       "       [ 2103.92958,    18.704  ],\n",
       "       ..., \n",
       "       [ 4853.56146,    19.116  ],\n",
       "       [ 4854.56497,    18.974  ],\n",
       "       [ 4864.5617 ,    18.835  ]])"
      ]
     },
     "execution_count": 7,
     "metadata": {},
     "output_type": "execute_result"
    }
   ],
   "source": [
    "data = np.loadtxt(os.path.join(\"data\", \"ogle.dat\"))\n",
    "data"
   ]
  },
  {
   "cell_type": "markdown",
   "metadata": {
    "collapsed": true
   },
   "source": [
    "Reformat the data for pytff"
   ]
  },
  {
   "cell_type": "code",
   "execution_count": 8,
   "metadata": {
    "collapsed": false
   },
   "outputs": [],
   "source": [
    "# this value is the real period of this star (i don't remember the original id\n",
    "# is necesary to create an array of one element for only one star\n",
    "periods = np.array([0.6347522])\n",
    "\n",
    "# convert the first column of the data into a first row of the 2d array\n",
    "times = data[:,0].reshape(1, len(data[:,0]))\n",
    "\n",
    "# convert the second column of the data into a first row of the 2d array\n",
    "values = data[:,1].reshape(1, len(data[:,1]))"
   ]
  },
  {
   "cell_type": "code",
   "execution_count": 9,
   "metadata": {
    "collapsed": false
   },
   "outputs": [],
   "source": [
    "tff_data, dff_data, match_data = tff.analyze(periods, times, values)"
   ]
  },
  {
   "cell_type": "code",
   "execution_count": 10,
   "metadata": {
    "collapsed": false
   },
   "outputs": [
    {
     "data": {
      "text/plain": [
       "array([ (0, 0.63475, 0.0, 19.034, 654.0, 0.2288, 0.1481, 4.1906, 0.0493, 4.8528, 0.0192, 5.9558, 0.005, 1.1047, 0.0043, 2.6569, 0.0049, 3.4054, 0.0036, 4.5121, 0.0034, 5.5922, 0.0017, 0.0709, 0.0015, 0.5639, 0.0, 0.2353, 0.0, 0.0276, 0.0, 0.0846, 0.0, 3.8838, 0.0, 0.6126)], \n",
       "      dtype=[('src_idx', '<i8'), ('period', '<f8'), ('epoch', '<f8'), ('average_magnitude', '<f8'), ('N_data_point', '<f8'), ('sigma_obs_fit', '<f8'), ('A_1', '<f8'), ('phi_1', '<f8'), ('A_2', '<f8'), ('phi_2', '<f8'), ('A_3', '<f8'), ('phi_3', '<f8'), ('A_4', '<f8'), ('phi_4', '<f8'), ('A_5', '<f8'), ('phi_5', '<f8'), ('A_6', '<f8'), ('phi_6', '<f8'), ('A_7', '<f8'), ('phi_7', '<f8'), ('A_8', '<f8'), ('phi_8', '<f8'), ('A_9', '<f8'), ('phi_9', '<f8'), ('A_10', '<f8'), ('phi_10', '<f8'), ('A_11', '<f8'), ('phi_11', '<f8'), ('A_12', '<f8'), ('phi_12', '<f8'), ('A_13', '<f8'), ('phi_13', '<f8'), ('A_14', '<f8'), ('phi_14', '<f8'), ('A_15', '<f8'), ('phi_15', '<f8')])"
      ]
     },
     "execution_count": 10,
     "metadata": {},
     "output_type": "execute_result"
    }
   ],
   "source": [
    "tff_data"
   ]
  },
  {
   "cell_type": "code",
   "execution_count": 11,
   "metadata": {
    "collapsed": false
   },
   "outputs": [
    {
     "data": {
      "text/plain": [
       "(0, 0.63475, 0.0, 19.034, 654.0, 0.2288, 0.1481, 4.1906, 0.0493, 4.8528, 0.0192, 5.9558, 0.005, 1.1047, 0.0043, 2.6569, 0.0049, 3.4054, 0.0036, 4.5121, 0.0034, 5.5922, 0.0017, 0.0709, 0.0015, 0.5639, 0.0, 0.2353, 0.0, 0.0276, 0.0, 0.0846, 0.0, 3.8838, 0.0, 0.6126)"
      ]
     },
     "execution_count": 11,
     "metadata": {},
     "output_type": "execute_result"
    }
   ],
   "source": [
    "tff_data[0] # our first and only source"
   ]
  },
  {
   "cell_type": "code",
   "execution_count": 12,
   "metadata": {
    "collapsed": false
   },
   "outputs": [
    {
     "data": {
      "text/plain": [
       "array([ 0.63475])"
      ]
     },
     "execution_count": 12,
     "metadata": {},
     "output_type": "execute_result"
    }
   ],
   "source": [
    "tff_data[\"period\"]"
   ]
  },
  {
   "cell_type": "code",
   "execution_count": 13,
   "metadata": {
    "collapsed": false
   },
   "outputs": [
    {
     "data": {
      "text/plain": [
       "array([ (0, 1, 0.63475, 0.2288, 0, 9.5541, 'M3 V124', 0.75243, 0.2288, 654, 5.9504),\n",
       "       (0, 2, 0.63475, 0.2288, 0, 9.5541, 'M5 V87', 0.73921, 0.2299, 654, 6.0107),\n",
       "       (0, 3, 0.63475, 0.2288, 0, 9.5541, 'Rup106 V13', 0.65315, 0.2345, 654, 4.9328),\n",
       "       (0, 4, 0.63475, 0.2288, 0, 9.5541, 'FW Lup', 0.48417, 0.2347, 654, 5.7156),\n",
       "       (0, 5, 0.63475, 0.2288, 0, 9.5541, 'M68 V30', 0.73364, 0.235, 654, 5.3584),\n",
       "       (0, 6, 0.63475, 0.2288, 0, 9.5541, 'Rup106 V18', 0.63547, 0.2383, 654, 5.4264),\n",
       "       (0, 7, 0.63475, 0.2288, 0, 9.5541, 'M3 V62', 0.65241, 0.2464, 654, 5.6235),\n",
       "       (0, 8, 0.63475, 0.2288, 0, 9.5541, 'Rup106 V16', 0.62851, 0.2501, 654, 5.2816),\n",
       "       (0, 9, 0.63475, 0.2288, 0, 9.5541, 'CN Lyr', 0.41138, 0.2563, 654, 5.5319),\n",
       "       (0, 10, 0.63475, 0.2288, 0, 9.5541, 'M5 V75', 0.68547, 0.2574, 654, 5.6388)], \n",
       "      dtype=[('src_idx', '<i8'), ('match_rank', '<i8'), ('src_period', '<f8'), ('src_sigma_obs_fit', '<f8'), ('order_of_the_template', '<i8'), ('snr', '<f8'), ('template_id', 'S255'), ('template_period', '<f8'), ('template_sigma_obs_fit', '<f8'), ('src_N_data_point', '<i8'), ('template_phi_31', '<f8')])"
      ]
     },
     "execution_count": 13,
     "metadata": {},
     "output_type": "execute_result"
    }
   ],
   "source": [
    "match_data"
   ]
  },
  {
   "cell_type": "code",
   "execution_count": null,
   "metadata": {
    "collapsed": true
   },
   "outputs": [],
   "source": []
  }
 ],
 "metadata": {
  "kernelspec": {
   "display_name": "Python 2",
   "language": "python",
   "name": "python2"
  },
  "language_info": {
   "codemirror_mode": {
    "name": "ipython",
    "version": 2
   },
   "file_extension": ".py",
   "mimetype": "text/x-python",
   "name": "python",
   "nbconvert_exporter": "python",
   "pygments_lexer": "ipython2",
   "version": "2.7.6"
  }
 },
 "nbformat": 4,
 "nbformat_minor": 0
}
